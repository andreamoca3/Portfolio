{
 "cells": [
  {
   "attachments": {},
   "cell_type": "markdown",
   "id": "b197f446-530c-41ee-b11f-57900dfa6fae",
   "metadata": {
    "tags": []
   },
   "source": [
    "#### Part 2   |   Advanced Difficulty Level\n",
    "\n",
    "In this second part, you will be working with a datasets containing information on indian startups' funding, including the startup's details, the funding it received, and the investors' information. \n",
    "\n",
    "In the usual `data` folder, you will find the following three datasets, including data from 2019, 2020 and 2021: \n",
    "\n",
    "- `startup_funding2019.csv`\n",
    "- `startup_funding2020.csv`\n",
    "- `startup_funding2021.csv`\n",
    "\n",
    "At [this link](https://www.kaggle.com/datasets/omkargowda/indian-startups-funding-data?select=startup_funding2019.csv) you can find the source of the original data (Kaggle) as well as more information on its composition *(note: the files in the data folder are slightly different from the originals)*."
   ]
  },
  {
   "attachments": {},
   "cell_type": "markdown",
   "id": "9528671c-2443-4008-9872-ef76288bab5b",
   "metadata": {},
   "source": [
    "1. Using a **for loop**, load all three .csv files in a temporary DataFrame called `df_tmp` and, at each cycle, add a new column named `Year` that includes the year of that csv file to the temporary table and append it to a final DataFrame named `fnd`. Your final `fnd` DataFrame should include the contents from all three csv files stacked one on top of the other. \n",
    "\n",
    "    What is the **shape** of the `fnd` DataFrame? "
   ]
  },
  {
   "cell_type": "code",
   "execution_count": 43,
   "id": "bbb44140",
   "metadata": {},
   "outputs": [],
   "source": [
    "import numpy as np\n",
    "import pandas as pd \n",
    "\n",
    "%matplotlib inline\n",
    "import matplotlib\n",
    "import matplotlib.pyplot as plt"
   ]
  },
  {
   "cell_type": "code",
   "execution_count": 44,
   "id": "6e89f1ce",
   "metadata": {},
   "outputs": [
    {
     "data": {
      "text/plain": [
       "(2343, 10)"
      ]
     },
     "execution_count": 44,
     "metadata": {},
     "output_type": "execute_result"
    }
   ],
   "source": [
    "dfs = []\n",
    "\n",
    "for year in range(2019, 2022):\n",
    "    filename = \"startup_funding\" + str(year) + \".csv\"\n",
    "    df_tmp = pd.read_csv(filename)\n",
    "    df_tmp['Year'] = year\n",
    "    dfs.append(df_tmp)\n",
    "\n",
    "fnd = pd.concat(dfs, ignore_index=True)\n",
    "\n",
    "fnd.shape"
   ]
  },
  {
   "attachments": {},
   "cell_type": "markdown",
   "id": "1740ef37-e478-4d67-ac20-375b652cbcf0",
   "metadata": {},
   "source": [
    "2. If you check the columns' data types, you'll notice that the columns `Founded`, `Amount($)` and `Year` are being interpreted as strings instead of numbers. Format those three columns to numeric data types. \n",
    "\n",
    "    What is the **total** `Amount($)` of funding given in the three years available?"
   ]
  },
  {
   "cell_type": "code",
   "execution_count": 45,
   "id": "839955c1-8c75-4448-9b34-cb51328b2137",
   "metadata": {},
   "outputs": [
    {
     "name": "stdout",
     "output_type": "stream",
     "text": [
      "<class 'pandas.core.frame.DataFrame'>\n",
      "RangeIndex: 2343 entries, 0 to 2342\n",
      "Data columns (total 10 columns):\n",
      " #   Column         Non-Null Count  Dtype \n",
      "---  ------         --------------  ----- \n",
      " 0   Company/Brand  2343 non-null   object\n",
      " 1   Founded        2102 non-null   object\n",
      " 2   HeadQuarter    2228 non-null   object\n",
      " 3   Sector         2325 non-null   object\n",
      " 4   What it does   2343 non-null   object\n",
      " 5   Founders       2324 non-null   object\n",
      " 6   Investor       2243 non-null   object\n",
      " 7   Amount($)      2211 non-null   object\n",
      " 8   Stage          1220 non-null   object\n",
      " 9   Year           2343 non-null   int64 \n",
      "dtypes: int64(1), object(9)\n",
      "memory usage: 183.2+ KB\n"
     ]
    }
   ],
   "source": [
    "fnd.info()"
   ]
  },
  {
   "cell_type": "code",
   "execution_count": 46,
   "id": "69f7445f",
   "metadata": {},
   "outputs": [
    {
     "data": {
      "text/plain": [
       "Company/Brand       0\n",
       "Founded           241\n",
       "HeadQuarter       115\n",
       "Sector             18\n",
       "What it does        0\n",
       "Founders           19\n",
       "Investor          100\n",
       "Amount($)         132\n",
       "Stage            1123\n",
       "Year                0\n",
       "dtype: int64"
      ]
     },
     "execution_count": 46,
     "metadata": {},
     "output_type": "execute_result"
    }
   ],
   "source": [
    "fnd.isnull().sum()"
   ]
  },
  {
   "cell_type": "code",
   "execution_count": 47,
   "id": "fe5062b5",
   "metadata": {},
   "outputs": [],
   "source": [
    "fnd['Year'] = pd.to_numeric(fnd['Year'])"
   ]
  },
  {
   "cell_type": "code",
   "execution_count": 48,
   "id": "bf021358",
   "metadata": {},
   "outputs": [],
   "source": [
    "fnd['Amount($)'] = fnd['Amount($)'].str.replace('$', '').str.replace(',', '')\n",
    "fnd['Amount($)'] = pd.to_numeric(fnd['Amount($)'], errors='coerce')"
   ]
  },
  {
   "cell_type": "code",
   "execution_count": 49,
   "id": "1ecc7d41",
   "metadata": {},
   "outputs": [],
   "source": [
    "fnd['Amount($)'] = fnd['Amount($)'].fillna(0)"
   ]
  },
  {
   "cell_type": "code",
   "execution_count": 50,
   "id": "6cd3d21a",
   "metadata": {},
   "outputs": [
    {
     "data": {
      "text/plain": [
       "271544633855.83002"
      ]
     },
     "execution_count": 50,
     "metadata": {},
     "output_type": "execute_result"
    }
   ],
   "source": [
    "fnd['Amount($)'].sum()"
   ]
  },
  {
   "attachments": {},
   "cell_type": "markdown",
   "id": "a89342a6",
   "metadata": {},
   "source": [
    "3. The following code shows us that \"Inflection Point Ventures\" was the `Investor` that funded the highest number of `Company/Brand`s overall (36 companies funded from 2019 to 2021). \n",
    "\n",
    "    How did \"Inflection Point Ventures\" **rank** *(in terms of most `Company/Brand`s funded) **in 2020**? (Note: in the answer write the rank number, where 1 = most funded company)*"
   ]
  },
  {
   "cell_type": "code",
   "execution_count": 51,
   "id": "28c4329f-45da-4220-b871-4535ee010fde",
   "metadata": {},
   "outputs": [
    {
     "data": {
      "text/html": [
       "<div>\n",
       "<style scoped>\n",
       "    .dataframe tbody tr th:only-of-type {\n",
       "        vertical-align: middle;\n",
       "    }\n",
       "\n",
       "    .dataframe tbody tr th {\n",
       "        vertical-align: top;\n",
       "    }\n",
       "\n",
       "    .dataframe thead th {\n",
       "        text-align: right;\n",
       "    }\n",
       "</style>\n",
       "<table border=\"1\" class=\"dataframe\">\n",
       "  <thead>\n",
       "    <tr style=\"text-align: right;\">\n",
       "      <th></th>\n",
       "      <th>Investor</th>\n",
       "      <th>size</th>\n",
       "    </tr>\n",
       "  </thead>\n",
       "  <tbody>\n",
       "    <tr>\n",
       "      <th>696</th>\n",
       "      <td>Inflection Point Ventures</td>\n",
       "      <td>36</td>\n",
       "    </tr>\n",
       "  </tbody>\n",
       "</table>\n",
       "</div>"
      ],
      "text/plain": [
       "                      Investor  size\n",
       "696  Inflection Point Ventures    36"
      ]
     },
     "execution_count": 51,
     "metadata": {},
     "output_type": "execute_result"
    }
   ],
   "source": [
    "# run this cell (don not delete it)\n",
    "fnd.groupby('Investor', as_index=False).size().sort_values('size', ascending=False).head(1)"
   ]
  },
  {
   "cell_type": "code",
   "execution_count": 52,
   "id": "03a5f180",
   "metadata": {},
   "outputs": [
    {
     "name": "stdout",
     "output_type": "stream",
     "text": [
      "                                        Investor  size  ranking\n",
      "789                            Venture Catalysts    20      1.0\n",
      "484                        Mumbai Angels Network    12      2.0\n",
      "85                               Angel investors    12      2.0\n",
      "334                    Inflection Point Ventures    11      4.0\n",
      "769                                  Undisclosed    10      5.0\n",
      "..                                           ...   ...      ...\n",
      "814                Wavemaker Partners, Subho Ray     1     75.0\n",
      "815                Wes Schwalje, Alteria Capital     1     75.0\n",
      "816                           WestBridge Capital     1     75.0\n",
      "676                       Softbank’s Vision Fund     1     75.0\n",
      "847  responsAbility, Grameen Impact India (GIII)     1     75.0\n",
      "\n",
      "[848 rows x 3 columns]\n"
     ]
    }
   ],
   "source": [
    "fnd_2020 = fnd[fnd['Year'] == 2020]\n",
    "\n",
    "fnd_grouped = fnd_2020.groupby('Investor').size().reset_index(name='size')\n",
    "\n",
    "fnd_sorted = fnd_grouped.sort_values(by='size', ascending=False)\n",
    "\n",
    "fnd_sorted['ranking'] = fnd_sorted['size'].rank(method='min', ascending=False)\n",
    "\n",
    "fnd_final = fnd_sorted.sort_values(by='ranking', ascending=True)\n",
    "\n",
    "print(fnd_final)"
   ]
  },
  {
   "cell_type": "code",
   "execution_count": 53,
   "id": "12eca87f",
   "metadata": {},
   "outputs": [
    {
     "data": {
      "text/html": [
       "<div>\n",
       "<style scoped>\n",
       "    .dataframe tbody tr th:only-of-type {\n",
       "        vertical-align: middle;\n",
       "    }\n",
       "\n",
       "    .dataframe tbody tr th {\n",
       "        vertical-align: top;\n",
       "    }\n",
       "\n",
       "    .dataframe thead th {\n",
       "        text-align: right;\n",
       "    }\n",
       "</style>\n",
       "<table border=\"1\" class=\"dataframe\">\n",
       "  <thead>\n",
       "    <tr style=\"text-align: right;\">\n",
       "      <th></th>\n",
       "      <th>Investor</th>\n",
       "      <th>size</th>\n",
       "      <th>ranking</th>\n",
       "    </tr>\n",
       "  </thead>\n",
       "  <tbody>\n",
       "    <tr>\n",
       "      <th>334</th>\n",
       "      <td>Inflection Point Ventures</td>\n",
       "      <td>11</td>\n",
       "      <td>4.0</td>\n",
       "    </tr>\n",
       "  </tbody>\n",
       "</table>\n",
       "</div>"
      ],
      "text/plain": [
       "                      Investor  size  ranking\n",
       "334  Inflection Point Ventures    11      4.0"
      ]
     },
     "execution_count": 53,
     "metadata": {},
     "output_type": "execute_result"
    }
   ],
   "source": [
    "investor_row = fnd_final[fnd_final['Investor'] == 'Inflection Point Ventures']\n",
    "investor_row"
   ]
  },
  {
   "attachments": {},
   "cell_type": "markdown",
   "id": "9e1ebfb8-ee7b-428d-8075-ba8ea6c9f63a",
   "metadata": {},
   "source": [
    "4. Load the `Software Professionals Salary.csv` file in a DataFrame named `sps` (just like you did in Part 1), then perform the following tasks **and answer the question at the end**: \n",
    "    1. starting from the `sps` DataFrame, create a new DF called `sps_loc` where you group by `Location` and show, for each city in the dataset, the average `Rating` and `Salary`;\n",
    "    2. starting from the `fnd` DataFrame, create a new DF called `fnd_loc` where you group by `HeadQuarter` and show, for each city in the dataset **for the year 2021**, the total number of `Company/Brand`s funded and the total `Amount($)` invested;\n",
    "    3. merge the two DataFrames you just created so to **keep just the cities that are in both datasets** and save the results in a third DataFrame called `sps_fnd_loc` *(note: make sure to use the correct type of join)*;\n",
    "    4. using the `sps_fnd_loc` DataFrame: \n",
    "        1. delete the `HeadQuarter` column\n",
    "        2. create a new column `Amount($MM)` that is equal to `Amount($)` divided by 1,000,000\n",
    "        3. delete the `Amount($)` column\n",
    "        4. rename all the columns to the following names: `['City', 'Avg. Rating', 'Avg. Salary', 'Nr. Companies Funded', 'Sum Funding ($MM)']`\n",
    "    \n",
    "    **Question**: Look at the `City` that received the **highest** `Avg. Rating` score by employees: what is the `Nr. Companies Funded` in that city? "
   ]
  },
  {
   "cell_type": "code",
   "execution_count": 54,
   "id": "594dbaa6-906b-4041-9943-148927b5750a",
   "metadata": {},
   "outputs": [],
   "source": [
    "sps_raw = pd.read_csv('Software Professionals Salary.csv')\n",
    "sps = pd.DataFrame(sps_raw)\n",
    "sps_loc = sps.groupby('Location')[['Rating', 'Salary']].mean().reset_index()"
   ]
  },
  {
   "cell_type": "code",
   "execution_count": 55,
   "id": "2c484527",
   "metadata": {},
   "outputs": [],
   "source": [
    "fnd_loc = fnd.groupby('HeadQuarter').agg({'HeadQuarter': 'count', 'Amount($)': 'sum'}).rename(columns={'HeadQuarter': 'Count', 'Amount ($)': 'Amount ($)'}).reset_index()"
   ]
  },
  {
   "cell_type": "code",
   "execution_count": 56,
   "id": "16deac20",
   "metadata": {},
   "outputs": [],
   "source": [
    "fnd_loc = fnd_loc.rename(columns={'HeadQuarter': 'Location'})"
   ]
  },
  {
   "cell_type": "code",
   "execution_count": 57,
   "id": "1b270ebc",
   "metadata": {},
   "outputs": [],
   "source": [
    "sps_fnd_loc = pd.merge(sps_loc, fnd_loc, on='Location', how='inner')"
   ]
  },
  {
   "cell_type": "code",
   "execution_count": 58,
   "id": "5880d27e",
   "metadata": {},
   "outputs": [
    {
     "data": {
      "text/html": [
       "<div>\n",
       "<style scoped>\n",
       "    .dataframe tbody tr th:only-of-type {\n",
       "        vertical-align: middle;\n",
       "    }\n",
       "\n",
       "    .dataframe tbody tr th {\n",
       "        vertical-align: top;\n",
       "    }\n",
       "\n",
       "    .dataframe thead th {\n",
       "        text-align: right;\n",
       "    }\n",
       "</style>\n",
       "<table border=\"1\" class=\"dataframe\">\n",
       "  <thead>\n",
       "    <tr style=\"text-align: right;\">\n",
       "      <th></th>\n",
       "      <th>Location</th>\n",
       "      <th>Rating</th>\n",
       "      <th>Salary</th>\n",
       "      <th>Count</th>\n",
       "      <th>Amount($MM)</th>\n",
       "    </tr>\n",
       "  </thead>\n",
       "  <tbody>\n",
       "    <tr>\n",
       "      <th>0</th>\n",
       "      <td>Bangalore</td>\n",
       "      <td>3.920232</td>\n",
       "      <td>735344.739593</td>\n",
       "      <td>765</td>\n",
       "      <td>20329.169358</td>\n",
       "    </tr>\n",
       "    <tr>\n",
       "      <th>1</th>\n",
       "      <td>Chennai</td>\n",
       "      <td>3.902726</td>\n",
       "      <td>584559.661513</td>\n",
       "      <td>87</td>\n",
       "      <td>1013.128146</td>\n",
       "    </tr>\n",
       "    <tr>\n",
       "      <th>2</th>\n",
       "      <td>Hyderabad</td>\n",
       "      <td>3.914484</td>\n",
       "      <td>679099.157376</td>\n",
       "      <td>61</td>\n",
       "      <td>423.781000</td>\n",
       "    </tr>\n",
       "    <tr>\n",
       "      <th>3</th>\n",
       "      <td>Jaipur</td>\n",
       "      <td>3.940741</td>\n",
       "      <td>629135.802469</td>\n",
       "      <td>22</td>\n",
       "      <td>499.100000</td>\n",
       "    </tr>\n",
       "    <tr>\n",
       "      <th>4</th>\n",
       "      <td>Kerala</td>\n",
       "      <td>3.885185</td>\n",
       "      <td>553577.481481</td>\n",
       "      <td>3</td>\n",
       "      <td>0.000000</td>\n",
       "    </tr>\n",
       "    <tr>\n",
       "      <th>5</th>\n",
       "      <td>Kolkata</td>\n",
       "      <td>4.024719</td>\n",
       "      <td>710925.573034</td>\n",
       "      <td>16</td>\n",
       "      <td>56.366500</td>\n",
       "    </tr>\n",
       "    <tr>\n",
       "      <th>6</th>\n",
       "      <td>Mumbai</td>\n",
       "      <td>3.881709</td>\n",
       "      <td>961180.368491</td>\n",
       "      <td>376</td>\n",
       "      <td>229347.049542</td>\n",
       "    </tr>\n",
       "    <tr>\n",
       "      <th>7</th>\n",
       "      <td>New Delhi</td>\n",
       "      <td>3.943415</td>\n",
       "      <td>658756.735632</td>\n",
       "      <td>180</td>\n",
       "      <td>2568.642000</td>\n",
       "    </tr>\n",
       "    <tr>\n",
       "      <th>8</th>\n",
       "      <td>Pune</td>\n",
       "      <td>3.886082</td>\n",
       "      <td>690476.311153</td>\n",
       "      <td>84</td>\n",
       "      <td>1356.044000</td>\n",
       "    </tr>\n",
       "  </tbody>\n",
       "</table>\n",
       "</div>"
      ],
      "text/plain": [
       "    Location    Rating         Salary  Count    Amount($MM)\n",
       "0  Bangalore  3.920232  735344.739593    765   20329.169358\n",
       "1    Chennai  3.902726  584559.661513     87    1013.128146\n",
       "2  Hyderabad  3.914484  679099.157376     61     423.781000\n",
       "3     Jaipur  3.940741  629135.802469     22     499.100000\n",
       "4     Kerala  3.885185  553577.481481      3       0.000000\n",
       "5    Kolkata  4.024719  710925.573034     16      56.366500\n",
       "6     Mumbai  3.881709  961180.368491    376  229347.049542\n",
       "7  New Delhi  3.943415  658756.735632    180    2568.642000\n",
       "8       Pune  3.886082  690476.311153     84    1356.044000"
      ]
     },
     "execution_count": 58,
     "metadata": {},
     "output_type": "execute_result"
    }
   ],
   "source": [
    "sps_fnd_loc['Amount($MM)'] = sps_fnd_loc['Amount($)'] / 1000000\n",
    "sps_fnd_loc = sps_fnd_loc.drop('Amount($)', axis=1)\n",
    "sps_fnd_loc"
   ]
  },
  {
   "cell_type": "code",
   "execution_count": 59,
   "id": "fdbbda2a",
   "metadata": {},
   "outputs": [
    {
     "data": {
      "text/html": [
       "<div>\n",
       "<style scoped>\n",
       "    .dataframe tbody tr th:only-of-type {\n",
       "        vertical-align: middle;\n",
       "    }\n",
       "\n",
       "    .dataframe tbody tr th {\n",
       "        vertical-align: top;\n",
       "    }\n",
       "\n",
       "    .dataframe thead th {\n",
       "        text-align: right;\n",
       "    }\n",
       "</style>\n",
       "<table border=\"1\" class=\"dataframe\">\n",
       "  <thead>\n",
       "    <tr style=\"text-align: right;\">\n",
       "      <th></th>\n",
       "      <th>City</th>\n",
       "      <th>Avg.Rating</th>\n",
       "      <th>Avg.Salary</th>\n",
       "      <th>Nr. Companies Founded</th>\n",
       "      <th>Sum Funding($MM)</th>\n",
       "    </tr>\n",
       "  </thead>\n",
       "  <tbody>\n",
       "    <tr>\n",
       "      <th>0</th>\n",
       "      <td>Bangalore</td>\n",
       "      <td>3.920232</td>\n",
       "      <td>735344.739593</td>\n",
       "      <td>765</td>\n",
       "      <td>20329.169358</td>\n",
       "    </tr>\n",
       "    <tr>\n",
       "      <th>1</th>\n",
       "      <td>Chennai</td>\n",
       "      <td>3.902726</td>\n",
       "      <td>584559.661513</td>\n",
       "      <td>87</td>\n",
       "      <td>1013.128146</td>\n",
       "    </tr>\n",
       "    <tr>\n",
       "      <th>2</th>\n",
       "      <td>Hyderabad</td>\n",
       "      <td>3.914484</td>\n",
       "      <td>679099.157376</td>\n",
       "      <td>61</td>\n",
       "      <td>423.781000</td>\n",
       "    </tr>\n",
       "    <tr>\n",
       "      <th>3</th>\n",
       "      <td>Jaipur</td>\n",
       "      <td>3.940741</td>\n",
       "      <td>629135.802469</td>\n",
       "      <td>22</td>\n",
       "      <td>499.100000</td>\n",
       "    </tr>\n",
       "    <tr>\n",
       "      <th>4</th>\n",
       "      <td>Kerala</td>\n",
       "      <td>3.885185</td>\n",
       "      <td>553577.481481</td>\n",
       "      <td>3</td>\n",
       "      <td>0.000000</td>\n",
       "    </tr>\n",
       "    <tr>\n",
       "      <th>5</th>\n",
       "      <td>Kolkata</td>\n",
       "      <td>4.024719</td>\n",
       "      <td>710925.573034</td>\n",
       "      <td>16</td>\n",
       "      <td>56.366500</td>\n",
       "    </tr>\n",
       "    <tr>\n",
       "      <th>6</th>\n",
       "      <td>Mumbai</td>\n",
       "      <td>3.881709</td>\n",
       "      <td>961180.368491</td>\n",
       "      <td>376</td>\n",
       "      <td>229347.049542</td>\n",
       "    </tr>\n",
       "    <tr>\n",
       "      <th>7</th>\n",
       "      <td>New Delhi</td>\n",
       "      <td>3.943415</td>\n",
       "      <td>658756.735632</td>\n",
       "      <td>180</td>\n",
       "      <td>2568.642000</td>\n",
       "    </tr>\n",
       "    <tr>\n",
       "      <th>8</th>\n",
       "      <td>Pune</td>\n",
       "      <td>3.886082</td>\n",
       "      <td>690476.311153</td>\n",
       "      <td>84</td>\n",
       "      <td>1356.044000</td>\n",
       "    </tr>\n",
       "  </tbody>\n",
       "</table>\n",
       "</div>"
      ],
      "text/plain": [
       "        City  Avg.Rating     Avg.Salary  Nr. Companies Founded  \\\n",
       "0  Bangalore    3.920232  735344.739593                    765   \n",
       "1    Chennai    3.902726  584559.661513                     87   \n",
       "2  Hyderabad    3.914484  679099.157376                     61   \n",
       "3     Jaipur    3.940741  629135.802469                     22   \n",
       "4     Kerala    3.885185  553577.481481                      3   \n",
       "5    Kolkata    4.024719  710925.573034                     16   \n",
       "6     Mumbai    3.881709  961180.368491                    376   \n",
       "7  New Delhi    3.943415  658756.735632                    180   \n",
       "8       Pune    3.886082  690476.311153                     84   \n",
       "\n",
       "   Sum Funding($MM)  \n",
       "0      20329.169358  \n",
       "1       1013.128146  \n",
       "2        423.781000  \n",
       "3        499.100000  \n",
       "4          0.000000  \n",
       "5         56.366500  \n",
       "6     229347.049542  \n",
       "7       2568.642000  \n",
       "8       1356.044000  "
      ]
     },
     "execution_count": 59,
     "metadata": {},
     "output_type": "execute_result"
    }
   ],
   "source": [
    "new_columns = {'Location': 'City',\n",
    "    'Rating': 'Avg.Rating',\n",
    "    'Salary': 'Avg.Salary',\n",
    "    'Count':'Nr. Companies Founded',\n",
    "    'Amount($MM)':'Sum Funding($MM)'}\n",
    "sps_fnd_loc = sps_fnd_loc.rename(columns=new_columns)\n",
    "sps_fnd_loc"
   ]
  },
  {
   "cell_type": "code",
   "execution_count": 60,
   "id": "433e0691",
   "metadata": {},
   "outputs": [
    {
     "data": {
      "text/html": [
       "<div>\n",
       "<style scoped>\n",
       "    .dataframe tbody tr th:only-of-type {\n",
       "        vertical-align: middle;\n",
       "    }\n",
       "\n",
       "    .dataframe tbody tr th {\n",
       "        vertical-align: top;\n",
       "    }\n",
       "\n",
       "    .dataframe thead th {\n",
       "        text-align: right;\n",
       "    }\n",
       "</style>\n",
       "<table border=\"1\" class=\"dataframe\">\n",
       "  <thead>\n",
       "    <tr style=\"text-align: right;\">\n",
       "      <th></th>\n",
       "      <th>City</th>\n",
       "      <th>Avg.Rating</th>\n",
       "      <th>Avg.Salary</th>\n",
       "      <th>Nr. Companies Founded</th>\n",
       "      <th>Sum Funding($MM)</th>\n",
       "    </tr>\n",
       "  </thead>\n",
       "  <tbody>\n",
       "    <tr>\n",
       "      <th>5</th>\n",
       "      <td>Kolkata</td>\n",
       "      <td>4.024719</td>\n",
       "      <td>710925.573034</td>\n",
       "      <td>16</td>\n",
       "      <td>56.3665</td>\n",
       "    </tr>\n",
       "  </tbody>\n",
       "</table>\n",
       "</div>"
      ],
      "text/plain": [
       "      City  Avg.Rating     Avg.Salary  Nr. Companies Founded  Sum Funding($MM)\n",
       "5  Kolkata    4.024719  710925.573034                     16           56.3665"
      ]
     },
     "execution_count": 60,
     "metadata": {},
     "output_type": "execute_result"
    }
   ],
   "source": [
    "sps_fnd_loc.sort_values('Avg.Rating', ascending=False).head(1)"
   ]
  },
  {
   "attachments": {},
   "cell_type": "markdown",
   "id": "a7dcfa1d-2439-4f63-bd15-abf5e7398a2e",
   "metadata": {},
   "source": [
    "5. Create a scatterplot that shows the relationship between the `Avg. Salary` and the `Sum Funding ($MM)`. Which `City` stands out in terms of total funding received by companies and salary paid to their employees? "
   ]
  },
  {
   "cell_type": "code",
   "execution_count": 61,
   "id": "e046b4cb-b783-455c-9a39-7fddc33b1119",
   "metadata": {},
   "outputs": [
    {
     "data": {
      "image/png": "[encoded data removed]",
      "text/plain": [
       "<Figure size 640x480 with 1 Axes>"
      ]
     },
     "metadata": {},
     "output_type": "display_data"
    }
   ],
   "source": [
    "x = sps_fnd_loc['Avg.Salary']\n",
    "y = sps_fnd_loc['Sum Funding($MM)']\n",
    "labels = sps_fnd_loc['City']\n",
    "\n",
    "plt.style.use('fivethirtyeight')\n",
    "plt.xlabel('Avg.Salary')\n",
    "plt.ylabel('Sum Funding($MM)')\n",
    "plt.scatter(x, y)\n",
    "for i, label in enumerate(labels):\n",
    "    plt.annotate(label, (x[i], y[i]), textcoords=\"offset points\", xytext=(0, 10), ha='center', rotation = 80)\n",
    "    plt.xticks(rotation=45)"
   ]
  },
  {
   "cell_type": "code",
   "execution_count": 62,
   "id": "2517700a",
   "metadata": {},
   "outputs": [
    {
     "data": {
      "text/html": [
       "<div>\n",
       "<style scoped>\n",
       "    .dataframe tbody tr th:only-of-type {\n",
       "        vertical-align: middle;\n",
       "    }\n",
       "\n",
       "    .dataframe tbody tr th {\n",
       "        vertical-align: top;\n",
       "    }\n",
       "\n",
       "    .dataframe thead th {\n",
       "        text-align: right;\n",
       "    }\n",
       "</style>\n",
       "<table border=\"1\" class=\"dataframe\">\n",
       "  <thead>\n",
       "    <tr style=\"text-align: right;\">\n",
       "      <th></th>\n",
       "      <th>City</th>\n",
       "      <th>Avg.Rating</th>\n",
       "      <th>Avg.Salary</th>\n",
       "      <th>Nr. Companies Founded</th>\n",
       "      <th>Sum Funding($MM)</th>\n",
       "    </tr>\n",
       "  </thead>\n",
       "  <tbody>\n",
       "    <tr>\n",
       "      <th>6</th>\n",
       "      <td>Mumbai</td>\n",
       "      <td>3.881709</td>\n",
       "      <td>961180.368491</td>\n",
       "      <td>376</td>\n",
       "      <td>229347.049542</td>\n",
       "    </tr>\n",
       "  </tbody>\n",
       "</table>\n",
       "</div>"
      ],
      "text/plain": [
       "     City  Avg.Rating     Avg.Salary  Nr. Companies Founded  Sum Funding($MM)\n",
       "6  Mumbai    3.881709  961180.368491                    376     229347.049542"
      ]
     },
     "execution_count": 62,
     "metadata": {},
     "output_type": "execute_result"
    }
   ],
   "source": [
    "best_city = sps_fnd_loc[sps_fnd_loc['Sum Funding($MM)'] > 200000]\n",
    "best_city"
   ]
  },
  {
   "attachments": {},
   "cell_type": "markdown",
   "id": "40deb346-babe-4dcb-81e2-6fc4d73acb2b",
   "metadata": {},
   "source": [
    "6. [BONUS] --> optional\n",
    "\n",
    "    Using libraries of your choice, scrape [this census page](https://www.census2011.co.in/city.php) and create a DataFrame called `cities` containing the first table from that page. *(Note: make sure to convert the variables `Population` and `Literacy` to numeric, you will need them later)*\n",
    "    1. Which City has the highest levels of `Literacy` in the country?\n",
    "    2. Merge the `cities` table with the `sps_fnd_loc` in a new DataFrame called `sps_fnd_loc_lit`. The resulting DataFrame is missing one row compared to the `sps_fnd_loc` dataset. Which `City` is missing? Figure out why and fix the problem. \n",
    "    3. Looking at the new `sps_fnd_loc_lit` DataFrame, produce a scatterplot that shows `Literacy` on the x-axis, `Avg. Salary` on the y-axis and the `Population` as the size of the circles. Try also to add the `City` labels to each circle in the chart. There seems to be a positive direct relationship between the two variables (higher levels of literacy correspond to higher salaries), but there is one city that escapes this interpretation. Which city is it? Try to describe the chart and give your interpretation. "
   ]
  },
  {
   "cell_type": "code",
   "execution_count": 63,
   "id": "8b76fb1a-19bd-450b-9f77-8b0e05fc3009",
   "metadata": {},
   "outputs": [],
   "source": [
    "import requests\n",
    "from bs4 import BeautifulSoup\n",
    "\n",
    "\n",
    "url = 'https://www.census2011.co.in/city.php'\n",
    "\n",
    "\n",
    "response = requests.get(url)\n",
    "\n",
    "\n",
    "if response.status_code == 200:\n",
    "    \n",
    "    soup = BeautifulSoup(response.content, 'html.parser')\n",
    "\n",
    "    \n",
    "    table = soup.find('table')\n",
    "\n",
    "    \n",
    "    if table:\n",
    "        \n",
    "        rows = table.find_all('tr')\n",
    "\n",
    "        \n",
    "        data = []\n",
    "\n",
    "        \n",
    "        for row in rows:\n",
    "            \n",
    "            columns = row.find_all('td')\n",
    "\n",
    "            \n",
    "            raw_data = [column.get_text() for column in columns]\n",
    "\n",
    "            \n",
    "            data.append(raw_data)\n",
    "\n",
    "        \n",
    "        cities_raw= pd.DataFrame(data)\n",
    "\n",
    "        cities = cities_raw.drop([0])\n",
    "\n",
    "        \n",
    "        cities.reset_index(drop=True, inplace=True)\n",
    "        \n",
    "        \n",
    "    else:\n",
    "        print('Nessuna tabella trovata.')\n",
    "else:\n",
    "    print('Errore nella richiesta HTTP.')\n"
   ]
  },
  {
   "cell_type": "code",
   "execution_count": 64,
   "id": "caf78943",
   "metadata": {},
   "outputs": [],
   "source": [
    "cities.columns = ['#', 'City', 'State', 'Population', 'Metropolitan', 'Sexratio', 'Literacy']"
   ]
  },
  {
   "cell_type": "code",
   "execution_count": 65,
   "id": "a3d1d890",
   "metadata": {},
   "outputs": [],
   "source": [
    "cities = cities.drop(cities.columns[0], axis=1)"
   ]
  },
  {
   "cell_type": "code",
   "execution_count": 66,
   "id": "90b024a5",
   "metadata": {},
   "outputs": [],
   "source": [
    "colonne_da_convertire = ['Population', 'Metropolitan', 'Sexratio', 'Literacy']\n",
    "cities[colonne_da_convertire] = cities[colonne_da_convertire].apply(lambda x: x.str.replace(',', ''))\n",
    "\n",
    "\n",
    "cities[colonne_da_convertire] = cities[colonne_da_convertire].apply(pd.to_numeric)\n"
   ]
  },
  {
   "cell_type": "code",
   "execution_count": 67,
   "id": "fcf08b94",
   "metadata": {},
   "outputs": [
    {
     "data": {
      "text/html": [
       "<div>\n",
       "<style scoped>\n",
       "    .dataframe tbody tr th:only-of-type {\n",
       "        vertical-align: middle;\n",
       "    }\n",
       "\n",
       "    .dataframe tbody tr th {\n",
       "        vertical-align: top;\n",
       "    }\n",
       "\n",
       "    .dataframe thead th {\n",
       "        text-align: right;\n",
       "    }\n",
       "</style>\n",
       "<table border=\"1\" class=\"dataframe\">\n",
       "  <thead>\n",
       "    <tr style=\"text-align: right;\">\n",
       "      <th></th>\n",
       "      <th>City</th>\n",
       "      <th>State</th>\n",
       "      <th>Population</th>\n",
       "      <th>Metropolitan</th>\n",
       "      <th>Sexratio</th>\n",
       "      <th>Literacy</th>\n",
       "    </tr>\n",
       "  </thead>\n",
       "  <tbody>\n",
       "    <tr>\n",
       "      <th>150</th>\n",
       "      <td>Aizawl</td>\n",
       "      <td>Mizoram</td>\n",
       "      <td>293416</td>\n",
       "      <td>293416</td>\n",
       "      <td>1025</td>\n",
       "      <td>98.36</td>\n",
       "    </tr>\n",
       "  </tbody>\n",
       "</table>\n",
       "</div>"
      ],
      "text/plain": [
       "       City    State  Population  Metropolitan  Sexratio  Literacy\n",
       "150  Aizawl  Mizoram      293416        293416      1025     98.36"
      ]
     },
     "execution_count": 67,
     "metadata": {},
     "output_type": "execute_result"
    }
   ],
   "source": [
    "cities_sorted = cities.sort_values(by='Literacy', ascending=False)\n",
    "cities_sorted.head(1)\n"
   ]
  },
  {
   "cell_type": "code",
   "execution_count": 68,
   "id": "4dae3336",
   "metadata": {},
   "outputs": [],
   "source": [
    "cities['City'] = cities['City'].replace('Delhi', 'New Delhi')"
   ]
  },
  {
   "cell_type": "code",
   "execution_count": 69,
   "id": "013cbc59",
   "metadata": {},
   "outputs": [
    {
     "data": {
      "text/html": [
       "<div>\n",
       "<style scoped>\n",
       "    .dataframe tbody tr th:only-of-type {\n",
       "        vertical-align: middle;\n",
       "    }\n",
       "\n",
       "    .dataframe tbody tr th {\n",
       "        vertical-align: top;\n",
       "    }\n",
       "\n",
       "    .dataframe thead th {\n",
       "        text-align: right;\n",
       "    }\n",
       "</style>\n",
       "<table border=\"1\" class=\"dataframe\">\n",
       "  <thead>\n",
       "    <tr style=\"text-align: right;\">\n",
       "      <th></th>\n",
       "      <th>City</th>\n",
       "      <th>State</th>\n",
       "      <th>Population</th>\n",
       "      <th>Metropolitan</th>\n",
       "      <th>Sexratio</th>\n",
       "      <th>Literacy</th>\n",
       "    </tr>\n",
       "  </thead>\n",
       "  <tbody>\n",
       "    <tr>\n",
       "      <th>0</th>\n",
       "      <td>Mumbai</td>\n",
       "      <td>Maharashtra</td>\n",
       "      <td>12442373</td>\n",
       "      <td>18414288</td>\n",
       "      <td>853</td>\n",
       "      <td>89.73</td>\n",
       "    </tr>\n",
       "    <tr>\n",
       "      <th>1</th>\n",
       "      <td>New Delhi</td>\n",
       "      <td>Delhi</td>\n",
       "      <td>11034555</td>\n",
       "      <td>16314838</td>\n",
       "      <td>876</td>\n",
       "      <td>87.59</td>\n",
       "    </tr>\n",
       "    <tr>\n",
       "      <th>2</th>\n",
       "      <td>Bangalore</td>\n",
       "      <td>Karnataka</td>\n",
       "      <td>8443675</td>\n",
       "      <td>8499399</td>\n",
       "      <td>923</td>\n",
       "      <td>88.71</td>\n",
       "    </tr>\n",
       "    <tr>\n",
       "      <th>3</th>\n",
       "      <td>Hyderabad</td>\n",
       "      <td>Andhra Pradesh</td>\n",
       "      <td>6731790</td>\n",
       "      <td>7749334</td>\n",
       "      <td>955</td>\n",
       "      <td>83.26</td>\n",
       "    </tr>\n",
       "    <tr>\n",
       "      <th>4</th>\n",
       "      <td>Ahmedabad</td>\n",
       "      <td>Gujarat</td>\n",
       "      <td>5577940</td>\n",
       "      <td>6352254</td>\n",
       "      <td>898</td>\n",
       "      <td>88.29</td>\n",
       "    </tr>\n",
       "    <tr>\n",
       "      <th>...</th>\n",
       "      <td>...</td>\n",
       "      <td>...</td>\n",
       "      <td>...</td>\n",
       "      <td>...</td>\n",
       "      <td>...</td>\n",
       "      <td>...</td>\n",
       "    </tr>\n",
       "    <tr>\n",
       "      <th>493</th>\n",
       "      <td>Gangtok</td>\n",
       "      <td>Sikkim</td>\n",
       "      <td>100286</td>\n",
       "      <td>100286</td>\n",
       "      <td>912</td>\n",
       "      <td>89.33</td>\n",
       "    </tr>\n",
       "    <tr>\n",
       "      <th>494</th>\n",
       "      <td>Datia</td>\n",
       "      <td>Madhya Pradesh</td>\n",
       "      <td>100284</td>\n",
       "      <td>100284</td>\n",
       "      <td>900</td>\n",
       "      <td>80.56</td>\n",
       "    </tr>\n",
       "    <tr>\n",
       "      <th>495</th>\n",
       "      <td>Nagda</td>\n",
       "      <td>Madhya Pradesh</td>\n",
       "      <td>100039</td>\n",
       "      <td>100039</td>\n",
       "      <td>947</td>\n",
       "      <td>80.71</td>\n",
       "    </tr>\n",
       "    <tr>\n",
       "      <th>496</th>\n",
       "      <td>Banswara</td>\n",
       "      <td>Rajasthan</td>\n",
       "      <td>99969</td>\n",
       "      <td>101177</td>\n",
       "      <td>960</td>\n",
       "      <td>85.72</td>\n",
       "    </tr>\n",
       "    <tr>\n",
       "      <th>497</th>\n",
       "      <td>Kapurthala</td>\n",
       "      <td>Punjab</td>\n",
       "      <td>98916</td>\n",
       "      <td>98916</td>\n",
       "      <td>839</td>\n",
       "      <td>85.08</td>\n",
       "    </tr>\n",
       "  </tbody>\n",
       "</table>\n",
       "<p>498 rows × 6 columns</p>\n",
       "</div>"
      ],
      "text/plain": [
       "           City           State  Population  Metropolitan  Sexratio  Literacy\n",
       "0        Mumbai     Maharashtra    12442373      18414288       853     89.73\n",
       "1     New Delhi           Delhi    11034555      16314838       876     87.59\n",
       "2     Bangalore       Karnataka     8443675       8499399       923     88.71\n",
       "3     Hyderabad  Andhra Pradesh     6731790       7749334       955     83.26\n",
       "4     Ahmedabad         Gujarat     5577940       6352254       898     88.29\n",
       "..          ...             ...         ...           ...       ...       ...\n",
       "493     Gangtok          Sikkim      100286        100286       912     89.33\n",
       "494       Datia  Madhya Pradesh      100284        100284       900     80.56\n",
       "495       Nagda  Madhya Pradesh      100039        100039       947     80.71\n",
       "496    Banswara       Rajasthan       99969        101177       960     85.72\n",
       "497  Kapurthala          Punjab       98916         98916       839     85.08\n",
       "\n",
       "[498 rows x 6 columns]"
      ]
     },
     "execution_count": 69,
     "metadata": {},
     "output_type": "execute_result"
    }
   ],
   "source": [
    "cities"
   ]
  },
  {
   "cell_type": "code",
   "execution_count": 70,
   "id": "24b522ff",
   "metadata": {},
   "outputs": [],
   "source": [
    "sps_fnd_loc_lit = pd.merge(sps_fnd_loc, cities, how = 'inner',on='City')"
   ]
  },
  {
   "cell_type": "code",
   "execution_count": 71,
   "id": "5460aa6d",
   "metadata": {},
   "outputs": [
    {
     "data": {
      "text/html": [
       "<div>\n",
       "<style scoped>\n",
       "    .dataframe tbody tr th:only-of-type {\n",
       "        vertical-align: middle;\n",
       "    }\n",
       "\n",
       "    .dataframe tbody tr th {\n",
       "        vertical-align: top;\n",
       "    }\n",
       "\n",
       "    .dataframe thead th {\n",
       "        text-align: right;\n",
       "    }\n",
       "</style>\n",
       "<table border=\"1\" class=\"dataframe\">\n",
       "  <thead>\n",
       "    <tr style=\"text-align: right;\">\n",
       "      <th></th>\n",
       "      <th>City</th>\n",
       "      <th>Avg.Rating</th>\n",
       "      <th>Avg.Salary</th>\n",
       "      <th>Nr. Companies Founded</th>\n",
       "      <th>Sum Funding($MM)</th>\n",
       "      <th>State</th>\n",
       "      <th>Population</th>\n",
       "      <th>Metropolitan</th>\n",
       "      <th>Sexratio</th>\n",
       "      <th>Literacy</th>\n",
       "    </tr>\n",
       "  </thead>\n",
       "  <tbody>\n",
       "    <tr>\n",
       "      <th>0</th>\n",
       "      <td>Bangalore</td>\n",
       "      <td>3.920232</td>\n",
       "      <td>735344.739593</td>\n",
       "      <td>765</td>\n",
       "      <td>20329.169358</td>\n",
       "      <td>Karnataka</td>\n",
       "      <td>8443675</td>\n",
       "      <td>8499399</td>\n",
       "      <td>923</td>\n",
       "      <td>88.71</td>\n",
       "    </tr>\n",
       "    <tr>\n",
       "      <th>1</th>\n",
       "      <td>Chennai</td>\n",
       "      <td>3.902726</td>\n",
       "      <td>584559.661513</td>\n",
       "      <td>87</td>\n",
       "      <td>1013.128146</td>\n",
       "      <td>Tamil Nadu</td>\n",
       "      <td>4646732</td>\n",
       "      <td>8696010</td>\n",
       "      <td>989</td>\n",
       "      <td>90.18</td>\n",
       "    </tr>\n",
       "    <tr>\n",
       "      <th>2</th>\n",
       "      <td>Hyderabad</td>\n",
       "      <td>3.914484</td>\n",
       "      <td>679099.157376</td>\n",
       "      <td>61</td>\n",
       "      <td>423.781000</td>\n",
       "      <td>Andhra Pradesh</td>\n",
       "      <td>6731790</td>\n",
       "      <td>7749334</td>\n",
       "      <td>955</td>\n",
       "      <td>83.26</td>\n",
       "    </tr>\n",
       "    <tr>\n",
       "      <th>3</th>\n",
       "      <td>Jaipur</td>\n",
       "      <td>3.940741</td>\n",
       "      <td>629135.802469</td>\n",
       "      <td>22</td>\n",
       "      <td>499.100000</td>\n",
       "      <td>Rajasthan</td>\n",
       "      <td>3046163</td>\n",
       "      <td>3046163</td>\n",
       "      <td>900</td>\n",
       "      <td>83.33</td>\n",
       "    </tr>\n",
       "    <tr>\n",
       "      <th>4</th>\n",
       "      <td>Kolkata</td>\n",
       "      <td>4.024719</td>\n",
       "      <td>710925.573034</td>\n",
       "      <td>16</td>\n",
       "      <td>56.366500</td>\n",
       "      <td>West Bengal</td>\n",
       "      <td>4496694</td>\n",
       "      <td>14112536</td>\n",
       "      <td>908</td>\n",
       "      <td>86.31</td>\n",
       "    </tr>\n",
       "    <tr>\n",
       "      <th>5</th>\n",
       "      <td>Mumbai</td>\n",
       "      <td>3.881709</td>\n",
       "      <td>961180.368491</td>\n",
       "      <td>376</td>\n",
       "      <td>229347.049542</td>\n",
       "      <td>Maharashtra</td>\n",
       "      <td>12442373</td>\n",
       "      <td>18414288</td>\n",
       "      <td>853</td>\n",
       "      <td>89.73</td>\n",
       "    </tr>\n",
       "    <tr>\n",
       "      <th>6</th>\n",
       "      <td>New Delhi</td>\n",
       "      <td>3.943415</td>\n",
       "      <td>658756.735632</td>\n",
       "      <td>180</td>\n",
       "      <td>2568.642000</td>\n",
       "      <td>Delhi</td>\n",
       "      <td>11034555</td>\n",
       "      <td>16314838</td>\n",
       "      <td>876</td>\n",
       "      <td>87.59</td>\n",
       "    </tr>\n",
       "    <tr>\n",
       "      <th>7</th>\n",
       "      <td>Pune</td>\n",
       "      <td>3.886082</td>\n",
       "      <td>690476.311153</td>\n",
       "      <td>84</td>\n",
       "      <td>1356.044000</td>\n",
       "      <td>Maharashtra</td>\n",
       "      <td>3124458</td>\n",
       "      <td>5049968</td>\n",
       "      <td>948</td>\n",
       "      <td>89.56</td>\n",
       "    </tr>\n",
       "  </tbody>\n",
       "</table>\n",
       "</div>"
      ],
      "text/plain": [
       "        City  Avg.Rating     Avg.Salary  Nr. Companies Founded  \\\n",
       "0  Bangalore    3.920232  735344.739593                    765   \n",
       "1    Chennai    3.902726  584559.661513                     87   \n",
       "2  Hyderabad    3.914484  679099.157376                     61   \n",
       "3     Jaipur    3.940741  629135.802469                     22   \n",
       "4    Kolkata    4.024719  710925.573034                     16   \n",
       "5     Mumbai    3.881709  961180.368491                    376   \n",
       "6  New Delhi    3.943415  658756.735632                    180   \n",
       "7       Pune    3.886082  690476.311153                     84   \n",
       "\n",
       "   Sum Funding($MM)           State  Population  Metropolitan  Sexratio  \\\n",
       "0      20329.169358       Karnataka     8443675       8499399       923   \n",
       "1       1013.128146      Tamil Nadu     4646732       8696010       989   \n",
       "2        423.781000  Andhra Pradesh     6731790       7749334       955   \n",
       "3        499.100000       Rajasthan     3046163       3046163       900   \n",
       "4         56.366500     West Bengal     4496694      14112536       908   \n",
       "5     229347.049542     Maharashtra    12442373      18414288       853   \n",
       "6       2568.642000           Delhi    11034555      16314838       876   \n",
       "7       1356.044000     Maharashtra     3124458       5049968       948   \n",
       "\n",
       "   Literacy  \n",
       "0     88.71  \n",
       "1     90.18  \n",
       "2     83.26  \n",
       "3     83.33  \n",
       "4     86.31  \n",
       "5     89.73  \n",
       "6     87.59  \n",
       "7     89.56  "
      ]
     },
     "execution_count": 71,
     "metadata": {},
     "output_type": "execute_result"
    }
   ],
   "source": [
    "sps_fnd_loc_lit"
   ]
  },
  {
   "cell_type": "code",
   "execution_count": 73,
   "id": "36750165",
   "metadata": {},
   "outputs": [
    {
     "data": {
      "image/png": "[encoded data removed]",
      "text/plain": [
       "<Figure size 640x480 with 1 Axes>"
      ]
     },
     "metadata": {},
     "output_type": "display_data"
    }
   ],
   "source": [
    "from sklearn.preprocessing import MinMaxScaler\n",
    "\n",
    "\n",
    "scaler = MinMaxScaler(feature_range=(10, 1000)) \n",
    "sizes = scaler.fit_transform(sps_fnd_loc_lit['Population'].values.reshape(-1, 1)).flatten()\n",
    "\n",
    "\n",
    "a = sps_fnd_loc_lit['Literacy']\n",
    "b = sps_fnd_loc_lit['Avg.Salary']\n",
    "labels1 = sps_fnd_loc_lit['City']\n",
    "\n",
    "plt.style.use('fivethirtyeight')\n",
    "plt.xlabel('Literacy')\n",
    "plt.ylabel('Avg.Salary')\n",
    "plt.scatter(a, b, s=sizes)\n",
    "for i, label in enumerate(labels1):\n",
    "    plt.annotate(label, (a[i], b[i]), textcoords=\"offset points\", xytext=(0, 10), ha='center', rotation=80)\n",
    "plt.xticks(rotation=45)\n",
    "plt.show()"
   ]
  }
 ],
 "metadata": {
  "kernelspec": {
   "display_name": "Python 3 (ipykernel)",
   "language": "python",
   "name": "python3"
  },
  "language_info": {
   "codemirror_mode": {
    "name": "ipython",
    "version": 3
   },
   "file_extension": ".py",
   "mimetype": "text/x-python",
   "name": "python",
   "nbconvert_exporter": "python",
   "pygments_lexer": "ipython3",
   "version": "3.10.6"
  }
 },
 "nbformat": 4,
 "nbformat_minor": 5
}
